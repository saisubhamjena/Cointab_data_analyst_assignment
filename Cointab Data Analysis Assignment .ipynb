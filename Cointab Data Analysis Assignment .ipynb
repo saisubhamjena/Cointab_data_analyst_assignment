{
 "cells": [
  {
   "cell_type": "code",
   "execution_count": 573,
   "id": "8bc4291d",
   "metadata": {},
   "outputs": [],
   "source": [
    "import pandas as pd\n",
    "import numpy as np"
   ]
  },
  {
   "cell_type": "code",
   "execution_count": 574,
   "id": "64ce458e",
   "metadata": {},
   "outputs": [],
   "source": [
    "# Import all Excel Files\n",
    "\n",
    "order=pd.read_excel(\"Company X - Order Report.xlsx\")\n",
    "pincode=pd.read_excel(\"Company X - Pincode Zones.xlsx\")\n",
    "sku=pd.read_excel(\"Company X - SKU Master.xlsx\")\n",
    "invoice=pd.read_excel(\"Courier Company - Invoice.xlsx\")\n",
    "rate=pd.read_excel(\"Courier Company - Rates.xlsx\")"
   ]
  },
  {
   "cell_type": "code",
   "execution_count": 575,
   "id": "d7ebec24",
   "metadata": {},
   "outputs": [
    {
     "name": "stdout",
     "output_type": "stream",
     "text": [
      "pincode 16\n",
      "sku 1\n",
      "invoice 0\n"
     ]
    }
   ],
   "source": [
    "# Check duplicate\n",
    "\n",
    "print('pincode',pincode.duplicated().sum())\n",
    "print('sku',sku.duplicated().sum())\n",
    "print('invoice',invoice.duplicated().sum())"
   ]
  },
  {
   "cell_type": "code",
   "execution_count": 576,
   "id": "d3ae5205",
   "metadata": {},
   "outputs": [],
   "source": [
    "# Delete duplicate values\n",
    "\n",
    "pincode.drop_duplicates(inplace=True)\n",
    "pincode.reset_index(drop=True,inplace=True)\n",
    "\n",
    "sku.drop_duplicates(inplace=True)\n",
    "sku.reset_index(drop=True,inplace=True)"
   ]
  },
  {
   "cell_type": "code",
   "execution_count": 577,
   "id": "df4f212f",
   "metadata": {},
   "outputs": [],
   "source": [
    "# Capitalizing the Zone\n",
    "\n",
    "pincode[\"Zone\"]=pincode[\"Zone\"].str.capitalize()\n",
    "invoice[\"Zone\"]=invoice[\"Zone\"].str.capitalize()"
   ]
  },
  {
   "cell_type": "code",
   "execution_count": 578,
   "id": "45a5adfe",
   "metadata": {},
   "outputs": [],
   "source": [
    "# Renaming Coulmn\n",
    "order.rename(columns={'ExternOrderNo': 'Order ID'}, inplace=True)"
   ]
  },
  {
   "cell_type": "code",
   "execution_count": 579,
   "id": "43d5b937",
   "metadata": {},
   "outputs": [],
   "source": [
    "# Creating new calculation table\n",
    "\n",
    "calculation= pd.DataFrame(invoice[\"Order ID\"])\n",
    "calculation[\"AWB Cade\"] = invoice[\"AWB Code\"]\n",
    "calculation[\"Total Weight as per Courier Company (KG)\"] = invoice[\"Charged Weight\"]\n",
    "calculation[\"Delivery Zone charged by courier company\"] = invoice[\"Zone\"]\n",
    "calculation[\"Invoice Amount (Rs.)\"] = invoice[\"Billing Amount (Rs.)\"]\n",
    "calculation[\"Customer Pincode\"] = invoice[\"Customer Pincode\"]\n",
    "calculation[\"Type of Shipment\"] = invoice[\"Type of Shipment\"]"
   ]
  },
  {
   "cell_type": "code",
   "execution_count": 580,
   "id": "d8639c2b",
   "metadata": {},
   "outputs": [],
   "source": [
    "# merge sku with corrseponding weight\n",
    "order=pd.merge(order,sku, on ='SKU', how ='left')\n",
    "\n",
    "# Calculating total weight by quantity\n",
    "order[\"Total Weight as per X (KG)\"]=order[\"Order Qty\"]*order[\"Weight (g)\"]/1000\n",
    "\n",
    "# deleting the extra row\n",
    "order.drop('Weight (g)',axis=1,inplace=True)"
   ]
  },
  {
   "cell_type": "code",
   "execution_count": 581,
   "id": "0508bc17",
   "metadata": {},
   "outputs": [],
   "source": [
    "# Calculating total weight groug by Order ID\n",
    "Order_weight=order.groupby('Order ID')['Total Weight as per X (KG)'].sum()\n",
    "\n",
    "# Converting to datafrme\n",
    "Order_weight=Order_weight.reset_index()\n",
    "\n",
    "# Merge with calculation table\n",
    "calculation=pd.merge(calculation,Order_weight, on ='Order ID', how ='left')"
   ]
  },
  {
   "cell_type": "code",
   "execution_count": 582,
   "id": "732746f4",
   "metadata": {},
   "outputs": [],
   "source": [
    "# Merge pincode with zone\n",
    "calculation=pd.merge(calculation,pincode, on ='Customer Pincode', how ='left')\n",
    "\n",
    "# Deleting extra column\n",
    "calculation.drop('Customer Pincode',axis=1,inplace=True)\n",
    "calculation.drop('Warehouse Pincode',axis=1,inplace=True)"
   ]
  },
  {
   "cell_type": "code",
   "execution_count": 583,
   "id": "d379d0eb",
   "metadata": {},
   "outputs": [],
   "source": [
    "# Merge rate table\n",
    "calculation=pd.merge(calculation,rate, on ='Zone', how ='left')\n",
    "\n",
    "# calculating weight slab as per X\n",
    "calculation['Aditional slab']= (calculation['Total Weight as per X (KG)']/calculation['Weight Slabs']).apply(np.ceil)-1\n",
    "calculation['Weight slab as per X (KG)']= (calculation['Aditional slab']+1) * calculation['Weight Slabs']"
   ]
  },
  {
   "cell_type": "code",
   "execution_count": 584,
   "id": "b94728a3",
   "metadata": {},
   "outputs": [],
   "source": [
    "# Function to calculate Expected charges as per X\n",
    "\n",
    "def total_cost(row):\n",
    "    if row['Type of Shipment'] == \"Forward charges\":\n",
    "        return row['Forward Fixed Charge']+row['Aditional slab']*row['Forward Additional Weight Slab Charge']\n",
    "    else:\n",
    "        return row['Forward Fixed Charge']+row['Aditional slab']*row['Forward Additional Weight Slab Charge'] + row['RTO Fixed Charge']+row['Aditional slab']*row['RTO Additional Weight Slab Charge']\n",
    "    \n",
    "    \n",
    "calculation['Expected Charge as per X (Rs.)'] = calculation.apply(total_cost,axis=1)"
   ]
  },
  {
   "cell_type": "code",
   "execution_count": 585,
   "id": "034b269f",
   "metadata": {},
   "outputs": [],
   "source": [
    "# Rename Column \n",
    "calculation.rename(columns={'Zone': 'Delivery Zone as per X'}, inplace=True)\n",
    "\n",
    "# Deleting extra column\n",
    "calculation.drop('Weight Slabs',axis=1,inplace=True)\n",
    "calculation.drop('Forward Fixed Charge',axis=1,inplace=True)\n",
    "calculation.drop('Forward Additional Weight Slab Charge',axis=1,inplace=True)\n",
    "calculation.drop('RTO Fixed Charge',axis=1,inplace=True)\n",
    "calculation.drop('RTO Additional Weight Slab Charge',axis=1,inplace=True)\n",
    "calculation.drop('Aditional slab',axis=1,inplace=True)"
   ]
  },
  {
   "cell_type": "code",
   "execution_count": 586,
   "id": "e44b0791",
   "metadata": {},
   "outputs": [],
   "source": [
    "# Rename Column to match the column name\n",
    "rate.rename(columns={'Zone': 'Delivery Zone charged by courier company'}, inplace=True)\n",
    "\n",
    "calculation=pd.merge(calculation,rate, on ='Delivery Zone charged by courier company', how ='left')\n",
    "\n",
    "# calculating weight slab charged by courier company\n",
    "calculation['Aditional slab']= (calculation['Total Weight as per Courier Company (KG)']/calculation['Weight Slabs']).apply(np.ceil)-1\n",
    "calculation['Weight slab charged by Courier Company (KG)']= (calculation['Aditional slab']+1) * calculation['Weight Slabs']"
   ]
  },
  {
   "cell_type": "code",
   "execution_count": 587,
   "id": "2e24d15c",
   "metadata": {},
   "outputs": [],
   "source": [
    "# Function to calculate Charges Billed by Courier Company\n",
    "\n",
    "def total_cost(row):\n",
    "    if row['Type of Shipment'] == \"Forward charges\":\n",
    "        return row['Forward Fixed Charge']+row['Aditional slab']*row['Forward Additional Weight Slab Charge']\n",
    "    else:\n",
    "        return row['Forward Fixed Charge']+row['Aditional slab']*row['Forward Additional Weight Slab Charge'] + row['RTO Fixed Charge']+row['Aditional slab']*row['RTO Additional Weight Slab Charge']\n",
    "    \n",
    "\n",
    "calculation['Charges Billed by Courier Company (Rs.)'] = calculation.apply(total_cost,axis=1)"
   ]
  },
  {
   "cell_type": "code",
   "execution_count": 588,
   "id": "f98d46e4",
   "metadata": {},
   "outputs": [],
   "source": [
    "# Deleting extra column\n",
    "calculation.drop('Weight Slabs',axis=1,inplace=True)\n",
    "calculation.drop('Forward Fixed Charge',axis=1,inplace=True)\n",
    "calculation.drop('Forward Additional Weight Slab Charge',axis=1,inplace=True)\n",
    "calculation.drop('RTO Fixed Charge',axis=1,inplace=True)\n",
    "calculation.drop('RTO Additional Weight Slab Charge',axis=1,inplace=True)\n",
    "calculation.drop('Aditional slab',axis=1,inplace=True)\n",
    "calculation.drop('Type of Shipment',axis=1,inplace=True)"
   ]
  },
  {
   "cell_type": "code",
   "execution_count": 589,
   "id": "ad937cde",
   "metadata": {},
   "outputs": [],
   "source": [
    "# calculating Difference Between Expected Charges and Billed Charges\n",
    "\n",
    "calculation['Difference Between Expected Charges and Billed Charges (Rs.)']= calculation['Expected Charge as per X (Rs.)']-calculation['Charges Billed by Courier Company (Rs.)']"
   ]
  },
  {
   "cell_type": "code",
   "execution_count": 590,
   "id": "ce753bbb",
   "metadata": {},
   "outputs": [],
   "source": [
    "# Creating final calculation table\n",
    "\n",
    "calculation_table= calculation[['Order ID', 'AWB Cade','Total Weight as per X (KG)', 'Weight slab as per X (KG)', \n",
    "                                'Total Weight as per Courier Company (KG)','Weight slab charged by Courier Company (KG)', \n",
    "                                'Delivery Zone as per X', 'Delivery Zone charged by courier company', \n",
    "                                'Expected Charge as per X (Rs.)', 'Charges Billed by Courier Company (Rs.)',\n",
    "                                'Difference Between Expected Charges and Billed Charges (Rs.)']]"
   ]
  },
  {
   "cell_type": "code",
   "execution_count": 591,
   "id": "3d1f036c",
   "metadata": {},
   "outputs": [],
   "source": [
    "# Count values for summary table\n",
    "\n",
    "charged_correctly_count = (calculation['Difference Between Expected Charges and Billed Charges (Rs.)'] == 0).sum()\n",
    "over_charged_count = (calculation['Difference Between Expected Charges and Billed Charges (Rs.)'] < 0).sum()\n",
    "under_charged_count = (calculation['Difference Between Expected Charges and Billed Charges (Rs.)'] > 0).sum()\n",
    "\n",
    "\n",
    "# sum values for summary table\n",
    "\n",
    "total_invoice_amount = calculation[calculation['Difference Between Expected Charges and Billed Charges (Rs.)']==0]['Invoice Amount (Rs.)'].sum()\n",
    "total_overcharging_amount = calculation[calculation['Difference Between Expected Charges and Billed Charges (Rs.)']<0]['Difference Between Expected Charges and Billed Charges (Rs.)'].sum()\n",
    "total_undercharging_amount = calculation[calculation['Difference Between Expected Charges and Billed Charges (Rs.)']>0]['Difference Between Expected Charges and Billed Charges (Rs.)'].sum()"
   ]
  },
  {
   "cell_type": "code",
   "execution_count": 592,
   "id": "a0bb41f2",
   "metadata": {},
   "outputs": [],
   "source": [
    "# Creating summary table\n",
    "\n",
    "data= { 'Count' :[charged_correctly_count,over_charged_count,under_charged_count],\n",
    "       'Amount (Rs.)' : [total_invoice_amount,total_overcharging_amount,total_undercharging_amount]}\n",
    "\n",
    "index=['Total orders where X has been correctly charged',\n",
    "       'Total Orders where X has been overcharged',\n",
    "       'Total Orders where X has been undercharged']\n",
    "\n",
    "summary_table= pd.DataFrame(data,index=index)"
   ]
  },
  {
   "cell_type": "code",
   "execution_count": 594,
   "id": "28715882",
   "metadata": {},
   "outputs": [
    {
     "data": {
      "text/html": [
       "<div>\n",
       "<style scoped>\n",
       "    .dataframe tbody tr th:only-of-type {\n",
       "        vertical-align: middle;\n",
       "    }\n",
       "\n",
       "    .dataframe tbody tr th {\n",
       "        vertical-align: top;\n",
       "    }\n",
       "\n",
       "    .dataframe thead th {\n",
       "        text-align: right;\n",
       "    }\n",
       "</style>\n",
       "<table border=\"1\" class=\"dataframe\">\n",
       "  <thead>\n",
       "    <tr style=\"text-align: right;\">\n",
       "      <th></th>\n",
       "      <th>Count</th>\n",
       "      <th>Amount (Rs.)</th>\n",
       "    </tr>\n",
       "  </thead>\n",
       "  <tbody>\n",
       "    <tr>\n",
       "      <th>Total orders where X has been correctly charged</th>\n",
       "      <td>48</td>\n",
       "      <td>5955.6</td>\n",
       "    </tr>\n",
       "    <tr>\n",
       "      <th>Total Orders where X has been overcharged</th>\n",
       "      <td>49</td>\n",
       "      <td>-1274.9</td>\n",
       "    </tr>\n",
       "    <tr>\n",
       "      <th>Total Orders where X has been undercharged</th>\n",
       "      <td>27</td>\n",
       "      <td>580.8</td>\n",
       "    </tr>\n",
       "  </tbody>\n",
       "</table>\n",
       "</div>"
      ],
      "text/plain": [
       "                                                 Count  Amount (Rs.)\n",
       "Total orders where X has been correctly charged     48        5955.6\n",
       "Total Orders where X has been overcharged           49       -1274.9\n",
       "Total Orders where X has been undercharged          27         580.8"
      ]
     },
     "execution_count": 594,
     "metadata": {},
     "output_type": "execute_result"
    }
   ],
   "source": [
    "summary_table"
   ]
  },
  {
   "cell_type": "code",
   "execution_count": 598,
   "id": "567b2df9",
   "metadata": {},
   "outputs": [],
   "source": [
    "# export to excel file\n",
    "\n",
    "file_name=pd.ExcelWriter('Cointab_assignment_result.xlsx')\n",
    "\n",
    "summary_table.to_excel(file_name, sheet_name='Summary')\n",
    "calculation_table.to_excel(file_name, sheet_name='Calculation',index=False)\n",
    "\n",
    "file_name.save()"
   ]
  },
  {
   "cell_type": "code",
   "execution_count": null,
   "id": "421a89e2",
   "metadata": {},
   "outputs": [],
   "source": []
  },
  {
   "cell_type": "code",
   "execution_count": null,
   "id": "147848a1",
   "metadata": {},
   "outputs": [],
   "source": []
  },
  {
   "cell_type": "code",
   "execution_count": 599,
   "id": "6ceea775",
   "metadata": {},
   "outputs": [],
   "source": [
    "import pandas as pd\n",
    "\n",
    "# Example DataFrames\n",
    "data1 = {'Column1': [1, 2, 3]}\n",
    "data2 = {'ColumnA': ['A', 'B', 'C']}\n",
    "df1 = pd.DataFrame(data1)\n",
    "df2 = pd.DataFrame(data2)\n",
    "\n",
    "# Create an ExcelWriter object\n",
    "excel_writer = pd.ExcelWriter('output.xlsx')\n",
    "\n",
    "# Write each DataFrame to a different sheet\n",
    "df1.to_excel(excel_writer, sheet_name='Sheet1', index=False)\n",
    "df2.to_excel(excel_writer, sheet_name='Sheet2', index=False)\n",
    "\n",
    "# Save and close the ExcelWriter\n",
    "excel_writer.save()\n"
   ]
  },
  {
   "cell_type": "code",
   "execution_count": null,
   "id": "b644d925",
   "metadata": {},
   "outputs": [],
   "source": []
  },
  {
   "cell_type": "code",
   "execution_count": null,
   "id": "d32271cf",
   "metadata": {},
   "outputs": [],
   "source": []
  },
  {
   "cell_type": "code",
   "execution_count": null,
   "id": "8d36483d",
   "metadata": {},
   "outputs": [],
   "source": []
  },
  {
   "cell_type": "code",
   "execution_count": null,
   "id": "e6650d60",
   "metadata": {},
   "outputs": [],
   "source": []
  },
  {
   "cell_type": "code",
   "execution_count": null,
   "id": "213cd552",
   "metadata": {},
   "outputs": [],
   "source": []
  },
  {
   "cell_type": "code",
   "execution_count": null,
   "id": "8eae8404",
   "metadata": {},
   "outputs": [],
   "source": []
  },
  {
   "cell_type": "code",
   "execution_count": null,
   "id": "3b972172",
   "metadata": {},
   "outputs": [],
   "source": []
  },
  {
   "cell_type": "code",
   "execution_count": null,
   "id": "dc8ccb41",
   "metadata": {},
   "outputs": [],
   "source": []
  },
  {
   "cell_type": "code",
   "execution_count": null,
   "id": "409f16de",
   "metadata": {},
   "outputs": [],
   "source": [
    "\n"
   ]
  },
  {
   "cell_type": "code",
   "execution_count": null,
   "id": "bfc7d73c",
   "metadata": {},
   "outputs": [],
   "source": []
  },
  {
   "cell_type": "code",
   "execution_count": null,
   "id": "39ecf066",
   "metadata": {},
   "outputs": [],
   "source": []
  },
  {
   "cell_type": "code",
   "execution_count": null,
   "id": "89a193e7",
   "metadata": {},
   "outputs": [],
   "source": []
  },
  {
   "cell_type": "code",
   "execution_count": null,
   "id": "c1c5a3d9",
   "metadata": {},
   "outputs": [],
   "source": []
  }
 ],
 "metadata": {
  "kernelspec": {
   "display_name": "Python 3 (ipykernel)",
   "language": "python",
   "name": "python3"
  },
  "language_info": {
   "codemirror_mode": {
    "name": "ipython",
    "version": 3
   },
   "file_extension": ".py",
   "mimetype": "text/x-python",
   "name": "python",
   "nbconvert_exporter": "python",
   "pygments_lexer": "ipython3",
   "version": "3.9.12"
  }
 },
 "nbformat": 4,
 "nbformat_minor": 5
}
